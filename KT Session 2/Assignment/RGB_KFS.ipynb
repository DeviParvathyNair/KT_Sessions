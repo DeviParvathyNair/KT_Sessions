{
 "cells": [
  {
   "cell_type": "markdown",
   "id": "a3fefc7f",
   "metadata": {},
   "source": [
    "### IMPORTING LIBRARIES"
   ]
  },
  {
   "cell_type": "code",
   "execution_count": 1,
   "id": "5a33e135",
   "metadata": {},
   "outputs": [],
   "source": [
    "import mediapipe as mp\n",
    "import cv2\n",
    "import os\n",
    "import json\n",
    "import numpy as np\n",
    "import matplotlib.pyplot as plt\n",
    "import math"
   ]
  },
  {
   "cell_type": "markdown",
   "id": "60debb6a",
   "metadata": {},
   "source": [
    "### GET THE CENTROID VALUES"
   ]
  },
  {
   "cell_type": "code",
   "execution_count": 2,
   "id": "014898aa",
   "metadata": {},
   "outputs": [],
   "source": [
    "def retrieve_centroid_values(video_path):\n",
    "    cap = cv2.VideoCapture(video_path)\n",
    "    holistic_model = mp.solutions.holistic.Holistic(min_detection_confidence=0.5, min_tracking_confidence=0.5)\n",
    "    rvx_centroid = []\n",
    "    rvy_centroid = []\n",
    "    lvx_centroid = []\n",
    "    lvy_centroid = []\n",
    "    while True:\n",
    "        ret, frame = cap.read()\n",
    "        num_of_frames = int(cap. get(cv2. CAP_PROP_FRAME_COUNT))\n",
    "        if ret == True:\n",
    "            converttoRGB = cv2.cvtColor(frame, cv2.COLOR_BGR2RGB)\n",
    "            results = holistic_model.process(converttoRGB)\n",
    "            height, width, _ = frame.shape\n",
    "            rfx_centroid = []\n",
    "            rfy_centroid = []\n",
    "            lfx_centroid = []\n",
    "            lfy_centroid = []\n",
    "            rh_c=[16, 18, 20, 22]\n",
    "            lh_c=[15, 17, 21, 19]\n",
    "            # find centroid for right and left palm for each frame\n",
    "            for i in rh_c:\n",
    "                rfy_centroid.append(results.pose_landmarks.landmark[i].y * height)\n",
    "                rfx_centroid.append(results.pose_landmarks.landmark[i].x * width)\n",
    "            for i in lh_c:\n",
    "                lfy_centroid.append(results.pose_landmarks.landmark[i].y * height)\n",
    "                lfx_centroid.append(results.pose_landmarks.landmark[i].x * width)\n",
    "            # take mean of the centroid values for both palms for that frame and append \n",
    "            #to the array that holds centroid values for each frame in the video\n",
    "            rvx_centroid.append(np.mean(rfx_centroid))\n",
    "            rvy_centroid.append(np.mean(rfy_centroid))\n",
    "            lvx_centroid.append(np.mean(lfx_centroid))\n",
    "            lvy_centroid.append(np.mean(lfy_centroid))\n",
    "        else:\n",
    "            break\n",
    "    return rvx_centroid, rvy_centroid, lvx_centroid, lvy_centroid, num_of_frames"
   ]
  },
  {
   "cell_type": "markdown",
   "id": "bd770826",
   "metadata": {},
   "source": [
    "### FUNCTION FOR CALCULATING EUCLIDEAN DISTANCE BETWEEN TWO POINTS"
   ]
  },
  {
   "cell_type": "code",
   "execution_count": 3,
   "id": "c84632b6",
   "metadata": {},
   "outputs": [],
   "source": [
    "def euclidian_distance(x2, x1, y2, y1):\n",
    "    return (math.sqrt(math.pow(x2 - x1, 2) +math.pow(y2 - y1, 2) ))"
   ]
  },
  {
   "cell_type": "markdown",
   "id": "44261767",
   "metadata": {},
   "source": [
    "### FINDING HAND DISTANCE AND HAND HEIGHT"
   ]
  },
  {
   "cell_type": "code",
   "execution_count": 4,
   "id": "1de97dca",
   "metadata": {},
   "outputs": [],
   "source": [
    "def find_hand_distance_hand_height(lh_x, lh_y, rh_x, rh_y, f_no):\n",
    "    hand_dist=[]\n",
    "    hand_height=np.minimum(lh_y, rh_y) # \n",
    "    for i in range(0, f_no-1):\n",
    "        rh= euclidian_distance(rh_x[i+1], rh_x[i], rh_y[i+1], rh_y[i])\n",
    "        lh=euclidian_distance(lh_x[i+1], lh_x[i], lh_x[i+1], lh_x[i]) \n",
    "                    #using current frame and next frame\n",
    "        hand_dist.append(max(lh, rh)) \n",
    "    return hand_dist, hand_height"
   ]
  },
  {
   "cell_type": "markdown",
   "id": "c3c4da52",
   "metadata": {},
   "source": [
    "### PLOTTING HAND DISTANCE AND HEIGHT VALUES AGAINST NUMBER OF FRAMES"
   ]
  },
  {
   "cell_type": "code",
   "execution_count": 5,
   "id": "c4934ffa",
   "metadata": {},
   "outputs": [],
   "source": [
    "def plot_func(hand_dist, hand_height, f_no, filename):\n",
    "    plt.figure(figsize=(6, 3))\n",
    "    plt.scatter([i for i in range(0, f_no-1)], hand_dist)\n",
    "    a=np.mean(hand_dist) # threshold value for hand distance is taken as the mean of all the hand distance values\n",
    "    plt.plot([0, f_no], [a, a], color=\"red\")\n",
    "    plt.ylabel(\"Hand Distance\")\n",
    "    plt.xlabel(\"Number of Frames for \"+filename)\n",
    "    plt.show()\n",
    "    plt.figure(figsize=(6, 3))\n",
    "    plt.scatter([i for i in range(0, f_no)], hand_height)\n",
    "    b=np.mean(hand_height)\n",
    "    plt.plot([0, f_no], [b, b], color=\"red\")\n",
    "    plt.ylabel(\"Hand Height\")\n",
    "    plt.xlabel(\"Number of Frames for \"+filename)\n",
    "    plt.show()\n",
    "    return a,b"
   ]
  },
  {
   "cell_type": "markdown",
   "id": "3d955b87",
   "metadata": {},
   "source": [
    "### Create an output file that excludes frames not in line with the threshold values"
   ]
  },
  {
   "cell_type": "code",
   "execution_count": 12,
   "id": "fdc34010",
   "metadata": {},
   "outputs": [],
   "source": [
    "def KFS_output(video_path, save_dir, h_dist, h_height):\n",
    "    cap = cv2.VideoCapture(video_path)\n",
    "    fourcc = cv2.VideoWriter_fourcc(\"m\", \"p\", \"4\", \"v\")\n",
    "    ret, frame = cap.read()\n",
    "    height, width, _ = frame.shape\n",
    "    fps = cap.get(cv2.CAP_PROP_FPS)\n",
    "    output = cv2.VideoWriter( save_dir,fourcc, fps, (width,height))\n",
    "    while True:\n",
    "        ret, frame = cap.read()\n",
    "        if not ret:\n",
    "            break\n",
    "        for f, j in zip(h_dist, h_height):\n",
    "            if f>a:\n",
    "                output.write(frame)\n",
    "            elif(j<b):\n",
    "                output.write(frame)\n",
    "    num_of_frames = int(output. get(cv2. CAP_PROP_FRAME_COUNT))\n",
    "    output.release()\n",
    "    return num_of_frames"
   ]
  },
  {
   "cell_type": "markdown",
   "id": "cfded3cc",
   "metadata": {},
   "source": [
    "### Create Summary report and graphs of each sample video"
   ]
  },
  {
   "cell_type": "code",
   "execution_count": 25,
   "id": "5b212fa0",
   "metadata": {},
   "outputs": [],
   "source": [
    "import codecs, json\n"
   ]
  },
  {
   "cell_type": "code",
   "execution_count": 26,
   "id": "ca9d1cc4",
   "metadata": {},
   "outputs": [
    {
     "name": "stdout",
     "output_type": "stream",
     "text": [
      "['sample1.mp4', 'sample2.mp4', 'sample3.mp4', 'sample4.mp4', 'sample5.mp4', 'sample6.mp4']\n"
     ]
    },
    {
     "data": {
      "image/png": "[encoded data removed]",
      "text/plain": [
       "<Figure size 432x216 with 1 Axes>"
      ]
     },
     "metadata": {
      "needs_background": "light"
     },
     "output_type": "display_data"
    },
    {
     "data": {
      "image/png": "[encoded data removed]",
      "text/plain": [
       "<Figure size 432x216 with 1 Axes>"
      ]
     },
     "metadata": {
      "needs_background": "light"
     },
     "output_type": "display_data"
    },
    {
     "ename": "TypeError",
     "evalue": "Object of type StreamReaderWriter is not JSON serializable",
     "output_type": "error",
     "traceback": [
      "\u001b[1;31m---------------------------------------------------------------------------\u001b[0m",
      "\u001b[1;31mTypeError\u001b[0m                                 Traceback (most recent call last)",
      "\u001b[1;32m~\\AppData\\Local\\Temp/ipykernel_45688/1346516881.py\u001b[0m in \u001b[0;36m<module>\u001b[1;34m\u001b[0m\n\u001b[0;32m     47\u001b[0m     \u001b[0msummary_report_path\u001b[0m \u001b[1;33m=\u001b[0m \u001b[0mos\u001b[0m\u001b[1;33m.\u001b[0m\u001b[0mpath\u001b[0m\u001b[1;33m.\u001b[0m\u001b[0mjoin\u001b[0m\u001b[1;33m(\u001b[0m\u001b[0msave_dir\u001b[0m\u001b[1;33m,\u001b[0m \u001b[0mv_name\u001b[0m\u001b[1;33m.\u001b[0m\u001b[0msplit\u001b[0m\u001b[1;33m(\u001b[0m\u001b[1;34m\".\"\u001b[0m\u001b[1;33m)\u001b[0m\u001b[1;33m[\u001b[0m\u001b[1;36m0\u001b[0m\u001b[1;33m]\u001b[0m \u001b[1;33m+\u001b[0m \u001b[1;34m\"_output.json\"\u001b[0m\u001b[1;33m)\u001b[0m\u001b[1;33m\u001b[0m\u001b[1;33m\u001b[0m\u001b[0m\n\u001b[0;32m     48\u001b[0m     \u001b[1;32mwith\u001b[0m \u001b[0mopen\u001b[0m\u001b[1;33m(\u001b[0m\u001b[0msummary_report_path\u001b[0m\u001b[1;33m,\u001b[0m \u001b[1;34m\"w\"\u001b[0m\u001b[1;33m)\u001b[0m \u001b[1;32mas\u001b[0m \u001b[0ms\u001b[0m\u001b[1;33m:\u001b[0m\u001b[1;33m\u001b[0m\u001b[1;33m\u001b[0m\u001b[0m\n\u001b[1;32m---> 49\u001b[1;33m         \u001b[0ms\u001b[0m\u001b[1;33m.\u001b[0m\u001b[0mwrite\u001b[0m\u001b[1;33m(\u001b[0m\u001b[0mjson\u001b[0m\u001b[1;33m.\u001b[0m\u001b[0mdumps\u001b[0m\u001b[1;33m(\u001b[0m\u001b[0mcodecs\u001b[0m\u001b[1;33m.\u001b[0m\u001b[0mopen\u001b[0m\u001b[1;33m(\u001b[0m\u001b[0msummary_report_path\u001b[0m\u001b[1;33m,\u001b[0m \u001b[1;34m'w'\u001b[0m\u001b[1;33m,\u001b[0m \u001b[0mencoding\u001b[0m\u001b[1;33m=\u001b[0m\u001b[1;34m'utf-8'\u001b[0m\u001b[1;33m)\u001b[0m\u001b[1;33m)\u001b[0m\u001b[1;33m)\u001b[0m\u001b[1;33m\u001b[0m\u001b[1;33m\u001b[0m\u001b[0m\n\u001b[0m",
      "\u001b[1;32mD:\\Anaconda\\lib\\json\\__init__.py\u001b[0m in \u001b[0;36mdumps\u001b[1;34m(obj, skipkeys, ensure_ascii, check_circular, allow_nan, cls, indent, separators, default, sort_keys, **kw)\u001b[0m\n\u001b[0;32m    229\u001b[0m         \u001b[0mcls\u001b[0m \u001b[1;32mis\u001b[0m \u001b[1;32mNone\u001b[0m \u001b[1;32mand\u001b[0m \u001b[0mindent\u001b[0m \u001b[1;32mis\u001b[0m \u001b[1;32mNone\u001b[0m \u001b[1;32mand\u001b[0m \u001b[0mseparators\u001b[0m \u001b[1;32mis\u001b[0m \u001b[1;32mNone\u001b[0m \u001b[1;32mand\u001b[0m\u001b[1;33m\u001b[0m\u001b[1;33m\u001b[0m\u001b[0m\n\u001b[0;32m    230\u001b[0m         default is None and not sort_keys and not kw):\n\u001b[1;32m--> 231\u001b[1;33m         \u001b[1;32mreturn\u001b[0m \u001b[0m_default_encoder\u001b[0m\u001b[1;33m.\u001b[0m\u001b[0mencode\u001b[0m\u001b[1;33m(\u001b[0m\u001b[0mobj\u001b[0m\u001b[1;33m)\u001b[0m\u001b[1;33m\u001b[0m\u001b[1;33m\u001b[0m\u001b[0m\n\u001b[0m\u001b[0;32m    232\u001b[0m     \u001b[1;32mif\u001b[0m \u001b[0mcls\u001b[0m \u001b[1;32mis\u001b[0m \u001b[1;32mNone\u001b[0m\u001b[1;33m:\u001b[0m\u001b[1;33m\u001b[0m\u001b[1;33m\u001b[0m\u001b[0m\n\u001b[0;32m    233\u001b[0m         \u001b[0mcls\u001b[0m \u001b[1;33m=\u001b[0m \u001b[0mJSONEncoder\u001b[0m\u001b[1;33m\u001b[0m\u001b[1;33m\u001b[0m\u001b[0m\n",
      "\u001b[1;32mD:\\Anaconda\\lib\\json\\encoder.py\u001b[0m in \u001b[0;36mencode\u001b[1;34m(self, o)\u001b[0m\n\u001b[0;32m    197\u001b[0m         \u001b[1;31m# exceptions aren't as detailed.  The list call should be roughly\u001b[0m\u001b[1;33m\u001b[0m\u001b[1;33m\u001b[0m\u001b[0m\n\u001b[0;32m    198\u001b[0m         \u001b[1;31m# equivalent to the PySequence_Fast that ''.join() would do.\u001b[0m\u001b[1;33m\u001b[0m\u001b[1;33m\u001b[0m\u001b[0m\n\u001b[1;32m--> 199\u001b[1;33m         \u001b[0mchunks\u001b[0m \u001b[1;33m=\u001b[0m \u001b[0mself\u001b[0m\u001b[1;33m.\u001b[0m\u001b[0miterencode\u001b[0m\u001b[1;33m(\u001b[0m\u001b[0mo\u001b[0m\u001b[1;33m,\u001b[0m \u001b[0m_one_shot\u001b[0m\u001b[1;33m=\u001b[0m\u001b[1;32mTrue\u001b[0m\u001b[1;33m)\u001b[0m\u001b[1;33m\u001b[0m\u001b[1;33m\u001b[0m\u001b[0m\n\u001b[0m\u001b[0;32m    200\u001b[0m         \u001b[1;32mif\u001b[0m \u001b[1;32mnot\u001b[0m \u001b[0misinstance\u001b[0m\u001b[1;33m(\u001b[0m\u001b[0mchunks\u001b[0m\u001b[1;33m,\u001b[0m \u001b[1;33m(\u001b[0m\u001b[0mlist\u001b[0m\u001b[1;33m,\u001b[0m \u001b[0mtuple\u001b[0m\u001b[1;33m)\u001b[0m\u001b[1;33m)\u001b[0m\u001b[1;33m:\u001b[0m\u001b[1;33m\u001b[0m\u001b[1;33m\u001b[0m\u001b[0m\n\u001b[0;32m    201\u001b[0m             \u001b[0mchunks\u001b[0m \u001b[1;33m=\u001b[0m \u001b[0mlist\u001b[0m\u001b[1;33m(\u001b[0m\u001b[0mchunks\u001b[0m\u001b[1;33m)\u001b[0m\u001b[1;33m\u001b[0m\u001b[1;33m\u001b[0m\u001b[0m\n",
      "\u001b[1;32mD:\\Anaconda\\lib\\json\\encoder.py\u001b[0m in \u001b[0;36miterencode\u001b[1;34m(self, o, _one_shot)\u001b[0m\n\u001b[0;32m    255\u001b[0m                 \u001b[0mself\u001b[0m\u001b[1;33m.\u001b[0m\u001b[0mkey_separator\u001b[0m\u001b[1;33m,\u001b[0m \u001b[0mself\u001b[0m\u001b[1;33m.\u001b[0m\u001b[0mitem_separator\u001b[0m\u001b[1;33m,\u001b[0m \u001b[0mself\u001b[0m\u001b[1;33m.\u001b[0m\u001b[0msort_keys\u001b[0m\u001b[1;33m,\u001b[0m\u001b[1;33m\u001b[0m\u001b[1;33m\u001b[0m\u001b[0m\n\u001b[0;32m    256\u001b[0m                 self.skipkeys, _one_shot)\n\u001b[1;32m--> 257\u001b[1;33m         \u001b[1;32mreturn\u001b[0m \u001b[0m_iterencode\u001b[0m\u001b[1;33m(\u001b[0m\u001b[0mo\u001b[0m\u001b[1;33m,\u001b[0m \u001b[1;36m0\u001b[0m\u001b[1;33m)\u001b[0m\u001b[1;33m\u001b[0m\u001b[1;33m\u001b[0m\u001b[0m\n\u001b[0m\u001b[0;32m    258\u001b[0m \u001b[1;33m\u001b[0m\u001b[0m\n\u001b[0;32m    259\u001b[0m def _make_iterencode(markers, _default, _encoder, _indent, _floatstr,\n",
      "\u001b[1;32mD:\\Anaconda\\lib\\json\\encoder.py\u001b[0m in \u001b[0;36mdefault\u001b[1;34m(self, o)\u001b[0m\n\u001b[0;32m    177\u001b[0m \u001b[1;33m\u001b[0m\u001b[0m\n\u001b[0;32m    178\u001b[0m         \"\"\"\n\u001b[1;32m--> 179\u001b[1;33m         raise TypeError(f'Object of type {o.__class__.__name__} '\n\u001b[0m\u001b[0;32m    180\u001b[0m                         f'is not JSON serializable')\n\u001b[0;32m    181\u001b[0m \u001b[1;33m\u001b[0m\u001b[0m\n",
      "\u001b[1;31mTypeError\u001b[0m: Object of type StreamReaderWriter is not JSON serializable"
     ]
    }
   ],
   "source": [
    "# obtains path for save directory and path for sample videos\n",
    "save_dir=\"../../KT_Session_2/Output/\"\n",
    "videos_path=\"../../KT_Session_2/sample_videos/\"\n",
    "video_path_list = os.listdir(videos_path)\n",
    "print(video_path_list)\n",
    "for v_name in video_path_list:\n",
    "    video_path = os.path.join(videos_path, v_name)\n",
    "    video = cv2.VideoCapture(video_path)\n",
    "    # gets centroid values for right and left palm\n",
    "    rvx_centroid, rvy_centroid, lvx_centroid, lvy_centroid, num_of_frames=retrieve_centroid_values(video_path)\n",
    "    # find hand distance and hand height using the centroids\n",
    "    h_dist, h_height=find_hand_distance_hand_height(lvx_centroid, lvy_centroid, rvx_centroid, rvy_centroid, num_of_frames)\n",
    "    # finds threshold value for hand distance and hand height\n",
    "    a,b=plot_func(h_dist, h_height, num_of_frames, v_name)\n",
    "    # path for created output video file\n",
    "    output_path = os.path.join(save_dir, v_name.split(\".\")[0], v_name.split(\".\")[0] + \"_output.mp4\")\n",
    "#     o_frame_num=KFS_output(video_path, output_path, h_dist, h_height)\n",
    "    # Removes unwanted frames using the a and b values used to threshold hand distance and hand height and saves frames to an output file\n",
    "    cap = cv2.VideoCapture(video_path)\n",
    "    fourcc = cv2.VideoWriter_fourcc(\"m\", \"p\", \"4\", \"v\")\n",
    "    ret, frame = cap.read()\n",
    "    height, width, _ = frame.shape\n",
    "    fps = cap.get(cv2.CAP_PROP_FPS)\n",
    "    output = cv2.VideoWriter( save_dir,fourcc, fps, (width,height))\n",
    "    i=0\n",
    "    while True:\n",
    "        ret, frame = cap.read()\n",
    "        if not ret:\n",
    "            break\n",
    "        if(h_dist[i-1]>a and i!=0):\n",
    "            output.write(frame)\n",
    "        elif(h_height[i]<b):\n",
    "            output.write(frame)\n",
    "        i+=1\n",
    "    o_frame_num = int(output. get(cv2. CAP_PROP_FRAME_COUNT))\n",
    "    # creates a summary report of all the values\n",
    "    output.release()\n",
    "    summary_report = {}\n",
    "    summary_report[\"Filename\"] = v_name\n",
    "    summary_report[\"Hand_Height\"] = h_height\n",
    "    summary_report[\"Hand_Distance\"] = h_dist\n",
    "    summary_report[\"Initial_Frame_Count\"] = num_of_frames\n",
    "    summary_report[\"Post_KFS_Frame_Count\"] = o_frame_num\n",
    "    summary_report[\"Percentage_Reduction\"] = round(((num_of_frames-o_frame_num)/num_of_frames)*100, 2)\n",
    "    summary_report[\"Hand_Height_Threshold_Value\"] = a\n",
    "    summary_report[\"Hand_Distance_Threshold_Value\"] = b\n",
    "    summary_report_path = os.path.join(save_dir, v_name.split(\".\")[0] + \"_output.json\")\n",
    "    with open(summary_report_path, \"w\") as s:\n",
    "        s.write(json.dumps(codecs.open(summary_report_path, 'w', encoding='utf-8')))\n"
   ]
  },
  {
   "cell_type": "markdown",
   "id": "02063389",
   "metadata": {},
   "source": [
    "According to the graphs we can see that the max values which are far beyond the threshold are at the start and end of the video which corrosponds to the starting position assumed by the signers which is both the hands down. The threshold seeks to remove the starting position and subsequent pauses observed during the video in order to obtain a video with less number of frames."
   ]
  },
  {
   "cell_type": "code",
   "execution_count": null,
   "id": "064af090",
   "metadata": {},
   "outputs": [],
   "source": [
    "save_dir=\"../../KT_Session_2/Output/\"\n",
    "v_1=\"../../KT_Session_2/sample_videos/sample1.mp4\"\n",
    "v_2=\"../../KT_Session_2/sample_videos/sample2.mp4\"\n",
    "v_3=\"../../KT_Session_2/sample_videos/sample3.mp4\"\n",
    "v_4=\"../../KT_Session_2/sample_videos/sample4.mp4\"\n",
    "v_5=\"../../KT_Session_2/sample_videos/sample5.mp4\"\n",
    "v_6=\"../../KT_Session_2/sample_videos/sample6.mp4\"\n",
    "\n",
    "vid_1 = cv2.VideoCapture(v_1)\n",
    "# gets centroid values for right and left palm\n",
    "rvx_centroid1, rvy_centroid1, lvx_centroid1, lvy_centroid1, num_of_frames1=retrieve_centroid_values(vid_1)\n",
    "# find hand distance and hand height using the centroids\n",
    "h_dist1, h_height1=find_hand_distance_hand_height(lvx_centroid1, lvy_centroid1, rvx_centroid1, rvy_centroid1, num_of_frames1)\n",
    "# finds threshold value for hand distance and hand height\n",
    "a1,b1=plot_func(h_dist, h_height, num_of_frames, v_name)\n",
    "\n",
    "vid_2 = cv2.VideoCapture(v_2)\n",
    "vid_3 = cv2.VideoCapture(v_3)\n",
    "vid_4 = cv2.VideoCapture(v_4)\n",
    "vid_5 = cv2.VideoCapture(v_5)\n",
    "vid_6 = cv2.VideoCapture(v_6)\n",
    "\n"
   ]
  }
 ],
 "metadata": {
  "kernelspec": {
   "display_name": "Python 3 (ipykernel)",
   "language": "python",
   "name": "python3"
  },
  "language_info": {
   "codemirror_mode": {
    "name": "ipython",
    "version": 3
   },
   "file_extension": ".py",
   "mimetype": "text/x-python",
   "name": "python",
   "nbconvert_exporter": "python",
   "pygments_lexer": "ipython3",
   "version": "3.9.7"
  }
 },
 "nbformat": 4,
 "nbformat_minor": 5
}
